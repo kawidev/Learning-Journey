{
 "cells": [
  {
   "cell_type": "markdown",
   "metadata": {},
   "source": [
    "# Beginner Level (1-40)"
   ]
  },
  {
   "cell_type": "markdown",
   "metadata": {},
   "source": [
    "## 1. Create an Array of Zeros\n",
    "📝 Task: Write a function that creates a 2D array filled with zeros, given the array's shape.\n",
    "### Answer:\n",
    "```python\n",
    "# Function to implement\n",
    "def create_zeros_array(rows: int, cols: int) -> np.ndarray:\n",
    "    \"\"\"\n",
    "    Returns a 2D array filled with zeros of shape (rows, cols).\n",
    "    \"\"\"\n",
    "    pass\n",
    "\n",
    "# Example:\n",
    "# Input: rows = 3, cols = 4\n",
    "# Output:\n",
    "# [[0. 0. 0. 0.]\n",
    "#  [0. 0. 0. 0.]\n",
    "#  [0. 0. 0. 0.]]\n",
    "```"
   ]
  },
  {
   "cell_type": "code",
   "execution_count": 2,
   "metadata": {},
   "outputs": [
    {
     "name": "stdout",
     "output_type": "stream",
     "text": [
      "[[0. 0. 0. 0.]\n",
      " [0. 0. 0. 0.]\n",
      " [0. 0. 0. 0.]]\n"
     ]
    }
   ],
   "source": [
    "import numpy as np\n",
    "\n",
    "def create_zeros_array(rows: int, cols: int):\n",
    "    return np.zeros((rows, cols))\n",
    "\n",
    "print(create_zeros_array(3, 4))"
   ]
  },
  {
   "cell_type": "markdown",
   "metadata": {},
   "source": [
    "## 2. Generate a Sequence of Numbers\n",
    "📝 Task: Implement a function that returns an array of integers from start to end (exclusive) with a given step size.\n",
    "### Answer:\n",
    "```python\n",
    "# Function to implement\n",
    "def generate_sequence(start: int, end: int, step: int) -> np.ndarray:\n",
    "    \"\"\"\n",
    "    Returns an array with a sequence of numbers from start to end with a specified step.\n",
    "    \"\"\"\n",
    "    pass\n",
    "\n",
    "# Example:\n",
    "# Input: start = 0, end = 10, step = 2\n",
    "# Output: [0 2 4 6 8]\n",
    "\n",
    "```"
   ]
  },
  {
   "cell_type": "code",
   "execution_count": 3,
   "metadata": {},
   "outputs": [
    {
     "name": "stdout",
     "output_type": "stream",
     "text": [
      "[0 2 4 6 8]\n"
     ]
    }
   ],
   "source": [
    "def generate_sequence(start: int, end: int, step: int):\n",
    "    return np.arange(start, end, step)\n",
    "\n",
    "print(generate_sequence(0, 10, 2))"
   ]
  },
  {
   "cell_type": "markdown",
   "metadata": {},
   "source": [
    "## 3. Find Even Numbers in an Array\n",
    "📝 Task: Given an array of integers, return a new array containing only even numbers.\n",
    "```python\n",
    "def filter_even_numbers(arr: np.ndarray) -> np.ndarray:\n",
    "    \"\"\"\n",
    "    Returns an array containing only even numbers from the input array.\n",
    "    \"\"\"\n",
    "    pass\n",
    "\n",
    "# Example:\n",
    "# Input: arr = np.array([1, 2, 3, 4, 5, 6])\n",
    "# Output: [2 4 6]\n",
    "```"
   ]
  },
  {
   "cell_type": "code",
   "execution_count": 4,
   "metadata": {},
   "outputs": [
    {
     "name": "stdout",
     "output_type": "stream",
     "text": [
      "[2 4 6]\n"
     ]
    }
   ],
   "source": [
    "def filter_even_numbers(arr:np.ndarray) -> np.ndarray:\n",
    "    return arr[arr % 2 == 0]\n",
    "\n",
    "print(filter_even_numbers(np.array([1, 2, 3, 4, 5, 6])))"
   ]
  },
  {
   "cell_type": "markdown",
   "metadata": {},
   "source": [
    "---\n",
    "### 4. Matrix Multiplication\n",
    "📝 Task: Implement a function that multiplies two 2D matrices using NumPy.\n",
    "```python\n",
    "def multiply_matrices(mat1: np.ndarray, mat2: np.ndarray) -> np.ndarray:\n",
    "    \"\"\"\n",
    "    Returns the product of two matrices mat1 and mat2.\n",
    "    \"\"\"\n",
    "    pass\n",
    "\n",
    "# Example:\n",
    "# Input: \n",
    "# mat1 = np.array([[1, 2], [3, 4]])\n",
    "# mat2 = np.array([[2, 0], [1, 2]])\n",
    "# Output:\n",
    "# [[4 4]\n",
    "#  [10 8]]\n",
    "```"
   ]
  },
  {
   "cell_type": "code",
   "execution_count": 1,
   "metadata": {},
   "outputs": [
    {
     "ename": "NameError",
     "evalue": "name 'np' is not defined",
     "output_type": "error",
     "traceback": [
      "\u001b[1;31m---------------------------------------------------------------------------\u001b[0m",
      "\u001b[1;31mNameError\u001b[0m                                 Traceback (most recent call last)",
      "Cell \u001b[1;32mIn[1], line 4\u001b[0m\n\u001b[0;32m      1\u001b[0m \u001b[38;5;28;01mdef\u001b[39;00m\u001b[38;5;250m \u001b[39m\u001b[38;5;21mmultiply_matrices\u001b[39m(mat1, mat2):\n\u001b[0;32m      2\u001b[0m     \u001b[38;5;28;01mreturn\u001b[39;00m np\u001b[38;5;241m.\u001b[39mdot(mat1, mat2)\n\u001b[1;32m----> 4\u001b[0m mat1 \u001b[38;5;241m=\u001b[39m \u001b[43mnp\u001b[49m\u001b[38;5;241m.\u001b[39marray([[\u001b[38;5;241m1\u001b[39m, \u001b[38;5;241m2\u001b[39m], [\u001b[38;5;241m3\u001b[39m, \u001b[38;5;241m4\u001b[39m]])\n\u001b[0;32m      5\u001b[0m mat2 \u001b[38;5;241m=\u001b[39m np\u001b[38;5;241m.\u001b[39marray([[\u001b[38;5;241m2\u001b[39m, \u001b[38;5;241m0\u001b[39m], [\u001b[38;5;241m1\u001b[39m, \u001b[38;5;241m2\u001b[39m]])\n\u001b[0;32m      6\u001b[0m \u001b[38;5;28mprint\u001b[39m(multiply_matrices(mat1, mat2))\n",
      "\u001b[1;31mNameError\u001b[0m: name 'np' is not defined"
     ]
    }
   ],
   "source": [
    "def multiply_matrices(mat1, mat2):\n",
    "    return np.dot(mat1, mat2)\n",
    "\n",
    "mat1 = np.array([[1, 2], [3, 4]])\n",
    "mat2 = np.array([[2, 0], [1, 2]])\n",
    "print(multiply_matrices(mat1, mat2))"
   ]
  }
 ],
 "metadata": {
  "kernelspec": {
   "display_name": "Python 3",
   "language": "python",
   "name": "python3"
  },
  "language_info": {
   "codemirror_mode": {
    "name": "ipython",
    "version": 3
   },
   "file_extension": ".py",
   "mimetype": "text/x-python",
   "name": "python",
   "nbconvert_exporter": "python",
   "pygments_lexer": "ipython3",
   "version": "3.13.1"
  }
 },
 "nbformat": 4,
 "nbformat_minor": 2
}
